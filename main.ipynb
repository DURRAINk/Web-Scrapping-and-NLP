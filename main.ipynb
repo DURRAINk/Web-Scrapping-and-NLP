{
 "cells": [
  {
   "cell_type": "code",
   "execution_count": 9,
   "id": "fe024828",
   "metadata": {
    "executionInfo": {
     "elapsed": 666,
     "status": "ok",
     "timestamp": 1722691984464,
     "user": {
      "displayName": "Durrain khan Pathan",
      "userId": "16226202405923349290"
     },
     "user_tz": -330
    },
    "id": "fe024828"
   },
   "outputs": [],
   "source": [
    "#loading all neccessary modules\n",
    "import numpy as np\n",
    "import pandas as pd\n",
    "import requests\n",
    "from bs4 import BeautifulSoup as BS\n",
    "\n",
    "from nltk import re, word_tokenize\n",
    "from nltk.corpus import stopwords\n",
    "from nltk.tokenize import SyllableTokenizer\n",
    "from textstat.textstat import textstatistics"
   ]
  },
  {
   "cell_type": "code",
   "execution_count": 10,
   "id": "27e55c4b",
   "metadata": {
    "executionInfo": {
     "elapsed": 814,
     "status": "ok",
     "timestamp": 1722691990984,
     "user": {
      "displayName": "Durrain khan Pathan",
      "userId": "16226202405923349290"
     },
     "user_tz": -330
    },
    "id": "27e55c4b"
   },
   "outputs": [],
   "source": [
    "# opening the file\n",
    "data=pd.read_excel('Input.xlsx')"
   ]
  },
  {
   "cell_type": "code",
   "execution_count": null,
   "id": "fa799202",
   "metadata": {
    "code_folding": [
     0
    ],
    "id": "fa799202"
   },
   "outputs": [],
   "source": [
    "# this function crawls the websites and extract the data into .txt files\n",
    "def text_extraction(dataframe):\n",
    "    df=dataframe\n",
    "    for i in range(0,len(df)):\n",
    "        url=df.iloc[i,1]\n",
    "        filename=df.iloc[i,0]\n",
    "        response=requests.get(url)\n",
    "        parsed=BS(response.text,'html.parser')\n",
    "        art=str(parsed.article)\n",
    "        if art!='None':\n",
    "            para=BS(art,'html.parser').find_all('p')\n",
    "            title=parsed.title.text\n",
    "            txt=BS(str(para),'html.parser').text\n",
    "            title=title.replace('- Blackcoffer Insights','')\n",
    "            article=title+'.\\n'+txt\n",
    "\n",
    "            f=open(f'{filename}.txt','wb')\n",
    "            f.write(article.encode('utf-8'))\n",
    "            f.close()\n",
    "        else:\n",
    "            f=open(f'{filename}.txt','w')\n",
    "            f.close()"
   ]
  },
  {
   "cell_type": "code",
   "execution_count": null,
   "id": "dc8dbcb1",
   "metadata": {
    "id": "dc8dbcb1"
   },
   "outputs": [],
   "source": [
    "#to crawl the web pages and extract the data into a text file\n",
    "text_extraction(data)"
   ]
  },
  {
   "cell_type": "code",
   "execution_count": null,
   "id": "37992098",
   "metadata": {
    "id": "37992098"
   },
   "outputs": [],
   "source": [
    "stop_words_files=['StopWords_Auditor.txt','StopWords_Currencies.txt','StopWords_DatesandNumbers.txt',\n",
    "                  'StopWords_Generic.txt','StopWords_GenericLong.txt','StopWords_Geographic.txt','StopWords_Names.txt']\n",
    "\n",
    "stop_words=''\n",
    "for x in stop_words_files:  # stopwords are extracted from given files\n",
    "    with open(x) as stop:\n",
    "        txt=stop.read()\n",
    "        stop.close()\n",
    "        stop_words=stop_words+txt\n",
    "\n",
    "stop_words_list=stop_words.lower().replace('|','').split()\n",
    "stop_words=list(set(stop_words_list+stopwords.words('english')))"
   ]
  },
  {
   "cell_type": "code",
   "execution_count": null,
   "id": "7642bdc0",
   "metadata": {
    "id": "7642bdc0"
   },
   "outputs": [],
   "source": [
    "#negative and positive words are extracted from given files\n",
    "with open('positive-words.txt') as ps:\n",
    "    ps_word=ps.read()\n",
    "    ps.close()\n",
    "with open('negative-words.txt') as ng:\n",
    "    ng_word=ng.read()\n",
    "    ng.close()\n",
    "\n",
    "pos_words_list=ps_word.split()\n",
    "neg_words_list=ng_word.split()"
   ]
  },
  {
   "cell_type": "code",
   "execution_count": null,
   "id": "78a46cbf",
   "metadata": {
    "code_folding": [
     1
    ],
    "id": "78a46cbf"
   },
   "outputs": [],
   "source": [
    "#this function cleans the text and generate tokens(nltk module is used for natural language processing)\n",
    "def tokens(text, stopwords):\n",
    "    stop_words= stopwords\n",
    "    txt=re.sub(r'[^a-zA-Z\\s]',' ',text,).replace('US','united states').replace('IT','Information Technology').lower()\n",
    "    tokens=word_tokenize(txt)\n",
    "    filtered_words=[word for word in tokens if word not in stop_words]\n",
    "    return filtered_words"
   ]
  },
  {
   "cell_type": "code",
   "execution_count": null,
   "id": "29a46e80",
   "metadata": {
    "code_folding": [
     1
    ],
    "id": "29a46e80"
   },
   "outputs": [],
   "source": [
    "# sentimental analysis is done using this function\n",
    "def sentimental_anlysis(tokens,pos,neg):\n",
    "    positive_words=pos\n",
    "    negative_words=neg\n",
    "\n",
    "    pos_score=len([word for word in tokens if word in positive_words])   #1\n",
    "    neg_score=len([word for word in tokens if word in negative_words])    #2\n",
    "    pol_score=round((pos_score - neg_score)/ ((pos_score + neg_score) + 0.000001),2)  #3\n",
    "    sub_score=round((pos_score + neg_score)/ (len(tokens) + 0.000001),2)   #4\n",
    "\n",
    "    return [pos_score,neg_score,pol_score,sub_score]"
   ]
  },
  {
   "cell_type": "code",
   "execution_count": null,
   "id": "fd356b18",
   "metadata": {
    "code_folding": [
     1
    ],
    "id": "fd356b18"
   },
   "outputs": [],
   "source": [
    "#text analysis for readability is done using nltk and textstat modules\n",
    "def Text_analysis(text):\n",
    "\n",
    "    new_text=re.sub(r'[^.a-zA-Z\\s]','',text)\n",
    "\n",
    "    sentences=new_text.split('.')\n",
    "    total_sentences=len(sentences)\n",
    "    words=new_text.replace('.','').split()\n",
    "    total_words=len(words)\n",
    "\n",
    "    syllable_count={\n",
    "        x: textstatistics().syllable_count(text=x) for x in words\n",
    "    }\n",
    "    complex_words=[]\n",
    "    for x in words:\n",
    "        if syllable_count[x]>2:\n",
    "            complex_words.append(x)\n",
    "    COMPLEX_WORD_COUNT=len(complex_words)  #9\n",
    "\n",
    "    AVG_SENTENCE_LENGTH=textstatistics().avg_sentence_length(new_text)  #5\n",
    "    PERCENTAGE_OF_COMPLEX_WORDS=round((COMPLEX_WORD_COUNT / total_words)*100,2)  #6\n",
    "    FOG_INDEX=round(0.4 * (AVG_SENTENCE_LENGTH + PERCENTAGE_OF_COMPLEX_WORDS),2) #7\n",
    "\n",
    "    AVG_NUMBER_OF_WORDS_PER_SENTENCE= round(total_words / total_sentences,2)  #8\n",
    "\n",
    "    WORD_COUNT=len([x for x in words if x.lower() not in stopwords.words('english')]) #10\n",
    "\n",
    "    num=0\n",
    "    for x in words:\n",
    "        num=num+textstatistics().syllable_count(x)\n",
    "    SYLLABLE_PER_WORD= round(num/total_words,2)  #11\n",
    "\n",
    "    PP=re.findall(r' I | you[rs] | he | she | it | we | they | me | him | her | us | them ', new_text)\n",
    "    PERSONAL_PRONOUNS=len(PP)   #12\n",
    "\n",
    "    AVG_WORD_LENGTH=textstatistics().avg_character_per_word(new_text)  #13\n",
    "\n",
    "    return [AVG_SENTENCE_LENGTH, PERCENTAGE_OF_COMPLEX_WORDS, FOG_INDEX, AVG_NUMBER_OF_WORDS_PER_SENTENCE,\n",
    "            COMPLEX_WORD_COUNT, WORD_COUNT, SYLLABLE_PER_WORD, PERSONAL_PRONOUNS, AVG_WORD_LENGTH]"
   ]
  },
  {
   "cell_type": "code",
   "execution_count": null,
   "id": "ff4ada18",
   "metadata": {
    "id": "ff4ada18"
   },
   "outputs": [],
   "source": [
    "columns=['URL_ID','POSITIVE_SCORE','NEGATIVE_SCORE','POLARITY_SCORE','SUBJECTIVITY_SCORE',\n",
    "    'AVG_SENTENCE_LENGTH','PERCENTAGE_OF_COMPLEX_WORDS','FOG_INDEX','AVG_NUMBER_OF_WORDS_PER_SENTENCE',\n",
    "    'COMPLEX_WORD_COUNT','WORD_COUNT','SYLLABLE_PER_WORD','PERSONAL_PRONOUNS','AVG_WORD_LENGTH']\n",
    "# an empty datagrame is created for storing furthur calculated data\n",
    "output=pd.DataFrame(columns=columns)"
   ]
  },
  {
   "cell_type": "code",
   "execution_count": null,
   "id": "f64f2a53",
   "metadata": {
    "id": "f64f2a53"
   },
   "outputs": [],
   "source": [
    "# all functions are applied here to fill the empty dataframe with calculated data\n",
    "for i in data['URL_ID']:\n",
    "    f=open(f'{i}.txt','rb')\n",
    "    text=f.read().decode()\n",
    "    f.close()\n",
    "\n",
    "    if text != '':\n",
    "        tk=tokens(text,stop_words)\n",
    "        SA=sentimental_anlysis(tk,pos_words_list,neg_words_list)\n",
    "        TA=Text_analysis(text)\n",
    "        output.loc[len(output.index)]=[i]+SA+TA\n",
    "\n",
    "    else:\n",
    "        output.loc[len(output.index)]=[i]+[0,0,0,0,0,0,0,0,0,0,0,0,0]\n"
   ]
  },
  {
   "cell_type": "code",
   "execution_count": null,
   "id": "2d8c1df1",
   "metadata": {
    "id": "2d8c1df1"
   },
   "outputs": [],
   "source": [
    "Output_data=pd.merge(data,output,on='URL_ID')\n",
    "#the data is now stored in an excel file 'Output_data.xlsx'\n",
    "Output_data.to_excel('Output_data.xlsx')"
   ]
  },
  {
   "cell_type": "code",
   "execution_count": null,
   "id": "401df382",
   "metadata": {
    "id": "401df382",
    "outputId": "8e77d472-a4eb-43e6-f38b-2c07be99eda9"
   },
   "outputs": [
    {
     "data": {
      "text/html": [
       "<div>\n",
       "<style scoped>\n",
       "    .dataframe tbody tr th:only-of-type {\n",
       "        vertical-align: middle;\n",
       "    }\n",
       "\n",
       "    .dataframe tbody tr th {\n",
       "        vertical-align: top;\n",
       "    }\n",
       "\n",
       "    .dataframe thead th {\n",
       "        text-align: right;\n",
       "    }\n",
       "</style>\n",
       "<table border=\"1\" class=\"dataframe\">\n",
       "  <thead>\n",
       "    <tr style=\"text-align: right;\">\n",
       "      <th></th>\n",
       "      <th>URL_ID</th>\n",
       "      <th>URL</th>\n",
       "      <th>POSITIVE_SCORE</th>\n",
       "      <th>NEGATIVE_SCORE</th>\n",
       "      <th>POLARITY_SCORE</th>\n",
       "      <th>SUBJECTIVITY_SCORE</th>\n",
       "      <th>AVG_SENTENCE_LENGTH</th>\n",
       "      <th>PERCENTAGE_OF_COMPLEX_WORDS</th>\n",
       "      <th>FOG_INDEX</th>\n",
       "      <th>AVG_NUMBER_OF_WORDS_PER_SENTENCE</th>\n",
       "      <th>COMPLEX_WORD_COUNT</th>\n",
       "      <th>WORD_COUNT</th>\n",
       "      <th>SYLLABLE_PER_WORD</th>\n",
       "      <th>PERSONAL_PRONOUNS</th>\n",
       "      <th>AVG_WORD_LENGTH</th>\n",
       "    </tr>\n",
       "  </thead>\n",
       "  <tbody>\n",
       "    <tr>\n",
       "      <th>0</th>\n",
       "      <td>blackassign0001</td>\n",
       "      <td>https://insights.blackcoffer.com/rising-it-cit...</td>\n",
       "      <td>2</td>\n",
       "      <td>1</td>\n",
       "      <td>0.33</td>\n",
       "      <td>0.02</td>\n",
       "      <td>14.0</td>\n",
       "      <td>11.68</td>\n",
       "      <td>10.27</td>\n",
       "      <td>12.54</td>\n",
       "      <td>41</td>\n",
       "      <td>182</td>\n",
       "      <td>1.49</td>\n",
       "      <td>2</td>\n",
       "      <td>4.62</td>\n",
       "    </tr>\n",
       "    <tr>\n",
       "      <th>1</th>\n",
       "      <td>blackassign0002</td>\n",
       "      <td>https://insights.blackcoffer.com/rising-it-cit...</td>\n",
       "      <td>49</td>\n",
       "      <td>31</td>\n",
       "      <td>0.22</td>\n",
       "      <td>0.13</td>\n",
       "      <td>17.5</td>\n",
       "      <td>21.66</td>\n",
       "      <td>15.66</td>\n",
       "      <td>17.27</td>\n",
       "      <td>303</td>\n",
       "      <td>835</td>\n",
       "      <td>1.76</td>\n",
       "      <td>15</td>\n",
       "      <td>5.55</td>\n",
       "    </tr>\n",
       "    <tr>\n",
       "      <th>2</th>\n",
       "      <td>blackassign0003</td>\n",
       "      <td>https://insights.blackcoffer.com/internet-dema...</td>\n",
       "      <td>36</td>\n",
       "      <td>25</td>\n",
       "      <td>0.18</td>\n",
       "      <td>0.10</td>\n",
       "      <td>18.6</td>\n",
       "      <td>29.08</td>\n",
       "      <td>19.07</td>\n",
       "      <td>18.26</td>\n",
       "      <td>308</td>\n",
       "      <td>664</td>\n",
       "      <td>2.02</td>\n",
       "      <td>15</td>\n",
       "      <td>6.18</td>\n",
       "    </tr>\n",
       "    <tr>\n",
       "      <th>3</th>\n",
       "      <td>blackassign0004</td>\n",
       "      <td>https://insights.blackcoffer.com/rise-of-cyber...</td>\n",
       "      <td>35</td>\n",
       "      <td>74</td>\n",
       "      <td>-0.36</td>\n",
       "      <td>0.19</td>\n",
       "      <td>20.0</td>\n",
       "      <td>28.23</td>\n",
       "      <td>19.29</td>\n",
       "      <td>19.58</td>\n",
       "      <td>293</td>\n",
       "      <td>657</td>\n",
       "      <td>1.95</td>\n",
       "      <td>11</td>\n",
       "      <td>6.04</td>\n",
       "    </tr>\n",
       "    <tr>\n",
       "      <th>4</th>\n",
       "      <td>blackassign0005</td>\n",
       "      <td>https://insights.blackcoffer.com/ott-platform-...</td>\n",
       "      <td>21</td>\n",
       "      <td>9</td>\n",
       "      <td>0.40</td>\n",
       "      <td>0.09</td>\n",
       "      <td>17.0</td>\n",
       "      <td>19.12</td>\n",
       "      <td>14.45</td>\n",
       "      <td>16.19</td>\n",
       "      <td>130</td>\n",
       "      <td>410</td>\n",
       "      <td>1.72</td>\n",
       "      <td>7</td>\n",
       "      <td>5.59</td>\n",
       "    </tr>\n",
       "    <tr>\n",
       "      <th>...</th>\n",
       "      <td>...</td>\n",
       "      <td>...</td>\n",
       "      <td>...</td>\n",
       "      <td>...</td>\n",
       "      <td>...</td>\n",
       "      <td>...</td>\n",
       "      <td>...</td>\n",
       "      <td>...</td>\n",
       "      <td>...</td>\n",
       "      <td>...</td>\n",
       "      <td>...</td>\n",
       "      <td>...</td>\n",
       "      <td>...</td>\n",
       "      <td>...</td>\n",
       "      <td>...</td>\n",
       "    </tr>\n",
       "    <tr>\n",
       "      <th>95</th>\n",
       "      <td>blackassign0096</td>\n",
       "      <td>https://insights.blackcoffer.com/what-is-the-r...</td>\n",
       "      <td>25</td>\n",
       "      <td>54</td>\n",
       "      <td>-0.37</td>\n",
       "      <td>0.15</td>\n",
       "      <td>21.8</td>\n",
       "      <td>19.87</td>\n",
       "      <td>16.67</td>\n",
       "      <td>20.98</td>\n",
       "      <td>221</td>\n",
       "      <td>642</td>\n",
       "      <td>1.68</td>\n",
       "      <td>4</td>\n",
       "      <td>5.30</td>\n",
       "    </tr>\n",
       "    <tr>\n",
       "      <th>96</th>\n",
       "      <td>blackassign0097</td>\n",
       "      <td>https://insights.blackcoffer.com/impact-of-cov...</td>\n",
       "      <td>21</td>\n",
       "      <td>35</td>\n",
       "      <td>-0.25</td>\n",
       "      <td>0.15</td>\n",
       "      <td>28.2</td>\n",
       "      <td>13.23</td>\n",
       "      <td>16.57</td>\n",
       "      <td>26.17</td>\n",
       "      <td>142</td>\n",
       "      <td>524</td>\n",
       "      <td>1.50</td>\n",
       "      <td>26</td>\n",
       "      <td>4.74</td>\n",
       "    </tr>\n",
       "    <tr>\n",
       "      <th>97</th>\n",
       "      <td>blackassign0098</td>\n",
       "      <td>https://insights.blackcoffer.com/contribution-...</td>\n",
       "      <td>1</td>\n",
       "      <td>0</td>\n",
       "      <td>1.00</td>\n",
       "      <td>0.01</td>\n",
       "      <td>24.7</td>\n",
       "      <td>20.95</td>\n",
       "      <td>18.26</td>\n",
       "      <td>24.67</td>\n",
       "      <td>31</td>\n",
       "      <td>99</td>\n",
       "      <td>1.69</td>\n",
       "      <td>1</td>\n",
       "      <td>5.36</td>\n",
       "    </tr>\n",
       "    <tr>\n",
       "      <th>98</th>\n",
       "      <td>blackassign0099</td>\n",
       "      <td>https://insights.blackcoffer.com/how-covid-19-...</td>\n",
       "      <td>11</td>\n",
       "      <td>3</td>\n",
       "      <td>0.57</td>\n",
       "      <td>0.06</td>\n",
       "      <td>17.7</td>\n",
       "      <td>10.34</td>\n",
       "      <td>11.22</td>\n",
       "      <td>17.16</td>\n",
       "      <td>55</td>\n",
       "      <td>305</td>\n",
       "      <td>1.49</td>\n",
       "      <td>6</td>\n",
       "      <td>4.84</td>\n",
       "    </tr>\n",
       "    <tr>\n",
       "      <th>99</th>\n",
       "      <td>blackassign0100</td>\n",
       "      <td>https://insights.blackcoffer.com/how-will-covi...</td>\n",
       "      <td>28</td>\n",
       "      <td>56</td>\n",
       "      <td>-0.33</td>\n",
       "      <td>0.20</td>\n",
       "      <td>26.8</td>\n",
       "      <td>17.87</td>\n",
       "      <td>17.87</td>\n",
       "      <td>26.82</td>\n",
       "      <td>163</td>\n",
       "      <td>497</td>\n",
       "      <td>1.64</td>\n",
       "      <td>5</td>\n",
       "      <td>5.21</td>\n",
       "    </tr>\n",
       "  </tbody>\n",
       "</table>\n",
       "<p>100 rows × 15 columns</p>\n",
       "</div>"
      ],
      "text/plain": [
       "             URL_ID                                                URL  \\\n",
       "0   blackassign0001  https://insights.blackcoffer.com/rising-it-cit...   \n",
       "1   blackassign0002  https://insights.blackcoffer.com/rising-it-cit...   \n",
       "2   blackassign0003  https://insights.blackcoffer.com/internet-dema...   \n",
       "3   blackassign0004  https://insights.blackcoffer.com/rise-of-cyber...   \n",
       "4   blackassign0005  https://insights.blackcoffer.com/ott-platform-...   \n",
       "..              ...                                                ...   \n",
       "95  blackassign0096  https://insights.blackcoffer.com/what-is-the-r...   \n",
       "96  blackassign0097  https://insights.blackcoffer.com/impact-of-cov...   \n",
       "97  blackassign0098  https://insights.blackcoffer.com/contribution-...   \n",
       "98  blackassign0099  https://insights.blackcoffer.com/how-covid-19-...   \n",
       "99  blackassign0100  https://insights.blackcoffer.com/how-will-covi...   \n",
       "\n",
       "    POSITIVE_SCORE  NEGATIVE_SCORE  POLARITY_SCORE  SUBJECTIVITY_SCORE  \\\n",
       "0                2               1            0.33                0.02   \n",
       "1               49              31            0.22                0.13   \n",
       "2               36              25            0.18                0.10   \n",
       "3               35              74           -0.36                0.19   \n",
       "4               21               9            0.40                0.09   \n",
       "..             ...             ...             ...                 ...   \n",
       "95              25              54           -0.37                0.15   \n",
       "96              21              35           -0.25                0.15   \n",
       "97               1               0            1.00                0.01   \n",
       "98              11               3            0.57                0.06   \n",
       "99              28              56           -0.33                0.20   \n",
       "\n",
       "    AVG_SENTENCE_LENGTH  PERCENTAGE_OF_COMPLEX_WORDS  FOG_INDEX  \\\n",
       "0                  14.0                        11.68      10.27   \n",
       "1                  17.5                        21.66      15.66   \n",
       "2                  18.6                        29.08      19.07   \n",
       "3                  20.0                        28.23      19.29   \n",
       "4                  17.0                        19.12      14.45   \n",
       "..                  ...                          ...        ...   \n",
       "95                 21.8                        19.87      16.67   \n",
       "96                 28.2                        13.23      16.57   \n",
       "97                 24.7                        20.95      18.26   \n",
       "98                 17.7                        10.34      11.22   \n",
       "99                 26.8                        17.87      17.87   \n",
       "\n",
       "    AVG_NUMBER_OF_WORDS_PER_SENTENCE  COMPLEX_WORD_COUNT  WORD_COUNT  \\\n",
       "0                              12.54                  41         182   \n",
       "1                              17.27                 303         835   \n",
       "2                              18.26                 308         664   \n",
       "3                              19.58                 293         657   \n",
       "4                              16.19                 130         410   \n",
       "..                               ...                 ...         ...   \n",
       "95                             20.98                 221         642   \n",
       "96                             26.17                 142         524   \n",
       "97                             24.67                  31          99   \n",
       "98                             17.16                  55         305   \n",
       "99                             26.82                 163         497   \n",
       "\n",
       "    SYLLABLE_PER_WORD  PERSONAL_PRONOUNS  AVG_WORD_LENGTH  \n",
       "0                1.49                  2             4.62  \n",
       "1                1.76                 15             5.55  \n",
       "2                2.02                 15             6.18  \n",
       "3                1.95                 11             6.04  \n",
       "4                1.72                  7             5.59  \n",
       "..                ...                ...              ...  \n",
       "95               1.68                  4             5.30  \n",
       "96               1.50                 26             4.74  \n",
       "97               1.69                  1             5.36  \n",
       "98               1.49                  6             4.84  \n",
       "99               1.64                  5             5.21  \n",
       "\n",
       "[100 rows x 15 columns]"
      ]
     },
     "execution_count": 51,
     "metadata": {},
     "output_type": "execute_result"
    }
   ],
   "source": [
    "Output_data"
   ]
  },
  {
   "cell_type": "code",
   "execution_count": 7,
   "id": "K1YKQawKcTj-",
   "metadata": {
    "id": "K1YKQawKcTj-"
   },
   "outputs": [
    {
     "name": "stdout",
     "output_type": "stream",
     "text": [
      "Defaulting to user installation because normal site-packages is not writeable\n",
      "Collecting textstat\n",
      "  Downloading textstat-0.7.4-py3-none-any.whl.metadata (14 kB)\n",
      "Collecting pyphen (from textstat)\n",
      "  Downloading pyphen-0.17.0-py3-none-any.whl.metadata (3.2 kB)\n",
      "Requirement already satisfied: setuptools in c:\\users\\admin\\appdata\\local\\packages\\pythonsoftwarefoundation.python.3.12_qbz5n2kfra8p0\\localcache\\local-packages\\python312\\site-packages (from textstat) (69.5.1)\n",
      "Downloading textstat-0.7.4-py3-none-any.whl (105 kB)\n",
      "Downloading pyphen-0.17.0-py3-none-any.whl (2.1 MB)\n",
      "   ---------------------------------------- 0.0/2.1 MB ? eta -:--:--\n",
      "   ----- ---------------------------------- 0.3/2.1 MB ? eta -:--:--\n",
      "   --------------- ------------------------ 0.8/2.1 MB 2.2 MB/s eta 0:00:01\n",
      "   ------------------------- -------------- 1.3/2.1 MB 2.2 MB/s eta 0:00:01\n",
      "   ----------------------------------- ---- 1.8/2.1 MB 2.2 MB/s eta 0:00:01\n",
      "   ---------------------------------------- 2.1/2.1 MB 2.2 MB/s eta 0:00:00\n",
      "Installing collected packages: pyphen, textstat\n",
      "Successfully installed pyphen-0.17.0 textstat-0.7.4\n",
      "Note: you may need to restart the kernel to use updated packages.\n"
     ]
    },
    {
     "name": "stderr",
     "output_type": "stream",
     "text": [
      "\n",
      "[notice] A new release of pip is available: 24.2 -> 24.3.1\n",
      "[notice] To update, run: C:\\Users\\Admin\\AppData\\Local\\Microsoft\\WindowsApps\\PythonSoftwareFoundation.Python.3.12_qbz5n2kfra8p0\\python.exe -m pip install --upgrade pip\n"
     ]
    }
   ],
   "source": [
    "pip install textstat\n"
   ]
  },
  {
   "cell_type": "code",
   "execution_count": null,
   "id": "74f3da2a",
   "metadata": {},
   "outputs": [],
   "source": []
  }
 ],
 "metadata": {
  "colab": {
   "provenance": []
  },
  "kernelspec": {
   "display_name": "Python 3",
   "language": "python",
   "name": "python3"
  },
  "language_info": {
   "codemirror_mode": {
    "name": "ipython",
    "version": 3
   },
   "file_extension": ".py",
   "mimetype": "text/x-python",
   "name": "python",
   "nbconvert_exporter": "python",
   "pygments_lexer": "ipython3",
   "version": "3.12.7"
  },
  "varInspector": {
   "cols": {
    "lenName": 16,
    "lenType": 16,
    "lenVar": 40
   },
   "kernels_config": {
    "python": {
     "delete_cmd_postfix": "",
     "delete_cmd_prefix": "del ",
     "library": "var_list.py",
     "varRefreshCmd": "print(var_dic_list())"
    },
    "r": {
     "delete_cmd_postfix": ") ",
     "delete_cmd_prefix": "rm(",
     "library": "var_list.r",
     "varRefreshCmd": "cat(var_dic_list()) "
    }
   },
   "types_to_exclude": [
    "module",
    "function",
    "builtin_function_or_method",
    "instance",
    "_Feature"
   ],
   "window_display": false
  }
 },
 "nbformat": 4,
 "nbformat_minor": 5
}
